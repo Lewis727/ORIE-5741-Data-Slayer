{
 "cells": [
  {
   "cell_type": "code",
   "execution_count": null,
   "metadata": {
    "colab": {
     "base_uri": "https://localhost:8080/"
    },
    "id": "WNzv0m0n6FFm",
    "outputId": "c447f310-1a0f-40f7-ef72-2a082e431824"
   },
   "outputs": [
    {
     "name": "stdout",
     "output_type": "stream",
     "text": [
      "Epoch 1/100\n",
      "2085/2085 [==============================] - 3s 1ms/step - loss: 0.8733\n",
      "Epoch 2/100\n",
      "2085/2085 [==============================] - 2s 1ms/step - loss: 0.7065\n",
      "Epoch 3/100\n",
      "2085/2085 [==============================] - 2s 1ms/step - loss: 0.6855\n",
      "Epoch 4/100\n",
      "2085/2085 [==============================] - 3s 1ms/step - loss: 0.6781\n",
      "Epoch 5/100\n",
      "2085/2085 [==============================] - 2s 1ms/step - loss: 0.6732\n",
      "Epoch 6/100\n",
      "2085/2085 [==============================] - 2s 1ms/step - loss: 0.6681\n",
      "Epoch 7/100\n",
      "2085/2085 [==============================] - 2s 1ms/step - loss: 0.6643\n",
      "Epoch 8/100\n",
      "2085/2085 [==============================] - 2s 1ms/step - loss: 0.6628\n",
      "Epoch 9/100\n",
      "2085/2085 [==============================] - 2s 1ms/step - loss: 0.6620\n",
      "Epoch 10/100\n",
      "2085/2085 [==============================] - 3s 1ms/step - loss: 0.6616\n",
      "Epoch 11/100\n",
      "2085/2085 [==============================] - 2s 1ms/step - loss: 0.6613\n",
      "Epoch 12/100\n",
      "2085/2085 [==============================] - 2s 993us/step - loss: 0.6610\n",
      "Epoch 13/100\n",
      "2085/2085 [==============================] - 2s 1ms/step - loss: 0.6609\n",
      "Epoch 14/100\n",
      "2085/2085 [==============================] - 2s 1ms/step - loss: 0.6607\n",
      "Epoch 15/100\n",
      "2085/2085 [==============================] - 3s 1ms/step - loss: 0.6606\n",
      "Epoch 16/100\n",
      "2085/2085 [==============================] - 2s 1ms/step - loss: 0.6604\n",
      "Epoch 17/100\n",
      "2085/2085 [==============================] - 2s 1ms/step - loss: 0.6604\n",
      "Epoch 18/100\n",
      "2085/2085 [==============================] - 2s 1ms/step - loss: 0.6602\n",
      "Epoch 19/100\n",
      "2085/2085 [==============================] - 2s 1ms/step - loss: 0.6602\n",
      "Epoch 20/100\n",
      "2085/2085 [==============================] - 3s 1ms/step - loss: 0.6601\n",
      "Epoch 21/100\n",
      "2085/2085 [==============================] - 4s 2ms/step - loss: 0.6600\n",
      "Epoch 22/100\n",
      "2085/2085 [==============================] - 3s 1ms/step - loss: 0.6599\n",
      "Epoch 23/100\n",
      "2085/2085 [==============================] - 2s 993us/step - loss: 0.6599\n",
      "Epoch 24/100\n",
      "2085/2085 [==============================] - 2s 1ms/step - loss: 0.6599\n",
      "Epoch 25/100\n",
      "2085/2085 [==============================] - 3s 1ms/step - loss: 0.6597\n",
      "Epoch 26/100\n",
      "2085/2085 [==============================] - 2s 1ms/step - loss: 0.6597\n",
      "Epoch 27/100\n",
      "2085/2085 [==============================] - 2s 1ms/step - loss: 0.6596\n",
      "Epoch 28/100\n",
      "2085/2085 [==============================] - 2s 1ms/step - loss: 0.6595\n",
      "Epoch 29/100\n",
      "2085/2085 [==============================] - 2s 1ms/step - loss: 0.6595\n",
      "Epoch 30/100\n",
      "2085/2085 [==============================] - 3s 1ms/step - loss: 0.6594\n",
      "Epoch 31/100\n",
      "2085/2085 [==============================] - 2s 993us/step - loss: 0.6596\n",
      "Epoch 32/100\n",
      "2085/2085 [==============================] - 2s 978us/step - loss: 0.6594\n",
      "Epoch 33/100\n",
      "2085/2085 [==============================] - 2s 987us/step - loss: 0.6593\n",
      "Epoch 34/100\n",
      "2085/2085 [==============================] - 2s 1ms/step - loss: 0.6592\n",
      "Epoch 35/100\n",
      "2085/2085 [==============================] - 2s 1ms/step - loss: 0.6591\n",
      "Epoch 36/100\n",
      "2085/2085 [==============================] - 2s 1ms/step - loss: 0.6591\n",
      "Epoch 37/100\n",
      "2085/2085 [==============================] - 2s 994us/step - loss: 0.6590\n",
      "Epoch 38/100\n",
      "2085/2085 [==============================] - 2s 994us/step - loss: 0.6589\n",
      "Epoch 39/100\n",
      "2085/2085 [==============================] - 2s 1ms/step - loss: 0.6591\n",
      "Epoch 40/100\n",
      "2085/2085 [==============================] - 2s 1ms/step - loss: 0.6589\n",
      "Epoch 41/100\n",
      "2085/2085 [==============================] - 3s 1ms/step - loss: 0.6588\n",
      "Epoch 42/100\n",
      "2085/2085 [==============================] - 2s 1ms/step - loss: 0.6587\n",
      "Epoch 43/100\n",
      "2085/2085 [==============================] - 2s 1ms/step - loss: 0.6587\n",
      "Epoch 44/100\n",
      "2085/2085 [==============================] - 2s 1ms/step - loss: 0.6589\n",
      "Epoch 45/100\n",
      "2085/2085 [==============================] - 2s 996us/step - loss: 0.6586\n",
      "Epoch 46/100\n",
      "2085/2085 [==============================] - 3s 1ms/step - loss: 0.6586\n",
      "Epoch 47/100\n",
      "2085/2085 [==============================] - 2s 1ms/step - loss: 0.6586\n",
      "Epoch 48/100\n",
      "2085/2085 [==============================] - 2s 1ms/step - loss: 0.6585\n",
      "Epoch 49/100\n",
      "2085/2085 [==============================] - 2s 1ms/step - loss: 0.6585\n",
      "Epoch 50/100\n",
      "2085/2085 [==============================] - 2s 1ms/step - loss: 0.6585\n",
      "Epoch 51/100\n",
      "2085/2085 [==============================] - 2s 1ms/step - loss: 0.6585\n",
      "Epoch 52/100\n",
      "2085/2085 [==============================] - 2s 1ms/step - loss: 0.6585\n",
      "Epoch 53/100\n",
      "2085/2085 [==============================] - 2s 1ms/step - loss: 0.6584\n",
      "Epoch 54/100\n",
      "2085/2085 [==============================] - 2s 1ms/step - loss: 0.6584\n",
      "Epoch 55/100\n",
      "2085/2085 [==============================] - 2s 1ms/step - loss: 0.6584\n",
      "Epoch 56/100\n",
      "2085/2085 [==============================] - 2s 1ms/step - loss: 0.6585\n",
      "Epoch 57/100\n",
      "2085/2085 [==============================] - 3s 1ms/step - loss: 0.6583\n",
      "Epoch 58/100\n",
      "2085/2085 [==============================] - 2s 1ms/step - loss: 0.6583\n",
      "Epoch 59/100\n",
      "2085/2085 [==============================] - 2s 1ms/step - loss: 0.6583\n",
      "Epoch 60/100\n",
      "2085/2085 [==============================] - 2s 1ms/step - loss: 0.6583\n",
      "Epoch 61/100\n",
      "2085/2085 [==============================] - 2s 1ms/step - loss: 0.6582\n",
      "Epoch 62/100\n",
      "2085/2085 [==============================] - 3s 1ms/step - loss: 0.6582\n",
      "Epoch 63/100\n",
      "2085/2085 [==============================] - 2s 1ms/step - loss: 0.6582\n",
      "Epoch 64/100\n",
      "2085/2085 [==============================] - 2s 1ms/step - loss: 0.6582\n",
      "Epoch 65/100\n",
      "2085/2085 [==============================] - 2s 1ms/step - loss: 0.6582\n",
      "Epoch 66/100\n",
      "2085/2085 [==============================] - 2s 1ms/step - loss: 0.6583\n",
      "Epoch 67/100\n",
      "2085/2085 [==============================] - 2s 1ms/step - loss: 0.6582\n",
      "Epoch 68/100\n",
      "2085/2085 [==============================] - 2s 1ms/step - loss: 0.6581\n",
      "Epoch 69/100\n",
      "2085/2085 [==============================] - 2s 1ms/step - loss: 0.6581\n",
      "Epoch 70/100\n",
      "2085/2085 [==============================] - 4s 2ms/step - loss: 0.6580\n",
      "Epoch 71/100\n",
      " 860/2085 [===========>..................] - ETA: 2s - loss: 0.6382"
     ]
    }
   ],
   "source": [
    "import tensorflow as tf\n",
    "from tensorflow.keras.layers import Input, Dense\n",
    "from tensorflow.keras.models import Model\n",
    "import pandas as pd\n",
    "import os\n",
    "import matplotlib.pyplot as plt\n",
    "\n",
    "# Prepare the data\n",
    "data = pd.read_csv('data.csv', index_col=0)\n",
    "data.index = pd.to_datetime(data.index)\n",
    "x_train = data\n",
    "\n",
    "# Define the autoencoder architecture\n",
    "input_dim = x_train.shape[1]\n",
    "encoding_dim = 3\n",
    "input_layer = Input(shape=(input_dim,))\n",
    "encoder = Dense(encoding_dim, activation='relu')(input_layer)\n",
    "decoder = Dense(input_dim, activation='tanh')(encoder)\n",
    "\n",
    "# Define the autoencoder model\n",
    "autoencoder = Model(inputs=input_layer, outputs=decoder)\n",
    "\n",
    "# Compile the model\n",
    "autoencoder.compile(optimizer='adam', loss='mse')\n",
    "\n",
    "# Train the autoencoder on the mixed dataset\n",
    "autoencoder.fit(x_train, x_train, epochs=100, batch_size=32)\n",
    "\n",
    "# Use the trained autoencoder to reconstruct the mixed dataset\n",
    "reconstructions = autoencoder.predict(x_train)\n",
    "\n",
    "# Calculate the reconstruction error (MSE) for each data point\n",
    "mse = tf.keras.losses.mean_squared_error(x_train, reconstructions)\n",
    "mse = mse.numpy()\n"
   ]
  },
  {
   "cell_type": "code",
   "execution_count": null,
   "metadata": {
    "colab": {
     "base_uri": "https://localhost:8080/"
    },
    "executionInfo": {
     "elapsed": 164,
     "status": "ok",
     "timestamp": 1682973406570,
     "user": {
      "displayName": "Super D",
      "userId": "08952078199053110679"
     },
     "user_tz": 240
    },
    "id": "EalTgPA49JdJ",
    "outputId": "b69b37ec-c3b2-4d6f-c7a4-5f5edabccfda"
   },
   "outputs": [
    {
     "name": "stdout",
     "output_type": "stream",
     "text": [
      "0.0005095999640282378\n"
     ]
    }
   ],
   "source": [
    "# Split the data into normal and anomaly sets based on the reconstruction error\n",
    "threshold = 20 # adjust this threshold as needed\n",
    "is_anomaly = mse > threshold\n",
    "x_normal = x_train[~is_anomaly]\n",
    "x_anomaly = x_train[is_anomaly]\n",
    "\n",
    "print(len(x_anomaly)/len(data))"
   ]
  },
  {
   "cell_type": "code",
   "execution_count": null,
   "metadata": {
    "colab": {
     "base_uri": "https://localhost:8080/",
     "height": 448
    },
    "executionInfo": {
     "elapsed": 1157,
     "status": "ok",
     "timestamp": 1682973410320,
     "user": {
      "displayName": "Super D",
      "userId": "08952078199053110679"
     },
     "user_tz": 240
    },
    "id": "Ke-GU30r9eL6",
    "outputId": "f57a68be-ef6a-4313-af0a-f6340f3ddace"
   },
   "outputs": [
    {
     "data": {
      "text/plain": [
       "<Figure size 1500x700 with 0 Axes>"
      ]
     },
     "metadata": {},
     "output_type": "display_data"
    },
    {
     "data": {
      "image/png": "[encoded data removed]",
      "text/plain": [
       "<Figure size 640x480 with 1 Axes>"
      ]
     },
     "metadata": {},
     "output_type": "display_data"
    }
   ],
   "source": [
    "plt.figure(figsize=(15, 7))\n",
    "fig, ax = plt.subplots()\n",
    "ax.plot(data.index, data['D'], alpha=0.6, label='Time Series Data')\n",
    "ax.scatter(x_anomaly.index, x_anomaly['D'], color='red', label='Anomalies')\n",
    "\n",
    "plt.legend()\n",
    "plt.savefig('autoencoder.jpg')"
   ]
  },
  {
   "cell_type": "code",
   "execution_count": null,
   "metadata": {
    "id": "F5mz3fyXCqnY"
   },
   "outputs": [],
   "source": [
    "res = pd.DataFrame([1 if not x else -1 for x in is_anomaly])\n",
    "res.index = data.index\n",
    "res.to_csv('autoencoder.csv')"
   ]
  }
 ],
 "metadata": {
  "colab": {
   "authorship_tag": "ABX9TyPKCTHXcpeBPYVeN6ZjWziV",
   "provenance": []
  },
  "kernelspec": {
   "display_name": "Python 3 (ipykernel)",
   "language": "python",
   "name": "python3"
  },
  "language_info": {
   "codemirror_mode": {
    "name": "ipython",
    "version": 3
   },
   "file_extension": ".py",
   "mimetype": "text/x-python",
   "name": "python",
   "nbconvert_exporter": "python",
   "pygments_lexer": "ipython3",
   "version": "3.9.16"
  }
 },
 "nbformat": 4,
 "nbformat_minor": 1
}
