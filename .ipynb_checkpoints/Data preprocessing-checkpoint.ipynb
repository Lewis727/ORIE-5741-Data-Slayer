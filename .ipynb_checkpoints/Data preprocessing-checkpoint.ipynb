{
 "cells": [
  {
   "cell_type": "code",
   "execution_count": 1,
   "id": "f3ff38a6",
   "metadata": {},
   "outputs": [],
   "source": [
    "import pandas as pd\n",
    "import os"
   ]
  },
  {
   "cell_type": "code",
   "execution_count": 4,
   "id": "0901a058",
   "metadata": {},
   "outputs": [
    {
     "ename": "NameError",
     "evalue": "name '__file__' is not defined",
     "output_type": "error",
     "traceback": [
      "\u001b[1;31m---------------------------------------------------------------------------\u001b[0m",
      "\u001b[1;31mNameError\u001b[0m                                 Traceback (most recent call last)",
      "Cell \u001b[1;32mIn[4], line 1\u001b[0m\n\u001b[1;32m----> 1\u001b[0m path \u001b[38;5;241m=\u001b[39m os\u001b[38;5;241m.\u001b[39mpath\u001b[38;5;241m.\u001b[39mrealpath(\u001b[38;5;18;43m__file__\u001b[39;49m)\n\u001b[0;32m      2\u001b[0m \u001b[38;5;28mdir\u001b[39m \u001b[38;5;241m=\u001b[39m os\u001b[38;5;241m.\u001b[39mpath\u001b[38;5;241m.\u001b[39mdirname(path)\n\u001b[0;32m      3\u001b[0m \u001b[38;5;28mdir\u001b[39m \u001b[38;5;241m+\u001b[39m\u001b[38;5;241m=\u001b[39m \u001b[38;5;124m'\u001b[39m\u001b[38;5;124m\\\u001b[39m\u001b[38;5;124mData\u001b[39m\u001b[38;5;130;01m\\\\\u001b[39;00m\u001b[38;5;124m'\u001b[39m\n",
      "\u001b[1;31mNameError\u001b[0m: name '__file__' is not defined"
     ]
    }
   ],
   "source": [
    "path = os.path.realpath('C:\\Users\\jiaqi\\Desktop\\ORIE-5741-Data-Slayer')\n",
    "dir = os.path.dirname(path)\n",
    "dir += '\\Data\\\\'\n",
    "data = pd.read_excel(dir + 'Region_NW.xlsx', index_col=1)\n",
    "data.index = pd.to_datetime(data.index)"
   ]
  },
  {
   "cell_type": "code",
   "execution_count": null,
   "id": "d037ca47",
   "metadata": {},
   "outputs": [],
   "source": [
    "regions = ['AVA', 'AVRN', 'BPAT', 'CHPD', 'DOPD', 'GCPD', 'GRID', 'GWA', 'IPCO', 'NEVP', 'NWMT', 'PACE', 'PACW', 'PGE', 'PSCO', 'PSEI', 'SCL', 'TPWR', 'WACM', 'WAUW', 'WWA']\n",
    "for r in regions:\n",
    "    region = pd.read_excel(dir + r + '.xlsx', index_col=1)\n",
    "    region.index = pd.to_datetime(region.index)\n",
    "    temp = region['D']\n",
    "    temp.column = [r+'_D']\n",
    "    data = data.join(temp)"
   ]
  },
  {
   "cell_type": "code",
   "execution_count": null,
   "id": "0d1e0ca4",
   "metadata": {},
   "outputs": [],
   "source": [
    "data = data.dropna(axis='columns', how='all')\n",
    "data = data.dropna(axis=0, subset=['D'])\n",
    "data = data.drop(columns=['Local time', 'Local date', 'Hour', 'Time zone', 'DF', 'Region'])\n",
    "data.to_csv('data.csv')"
   ]
  }
 ],
 "metadata": {
  "kernelspec": {
   "display_name": "Python 3 (ipykernel)",
   "language": "python",
   "name": "python3"
  },
  "language_info": {
   "codemirror_mode": {
    "name": "ipython",
    "version": 3
   },
   "file_extension": ".py",
   "mimetype": "text/x-python",
   "name": "python",
   "nbconvert_exporter": "python",
   "pygments_lexer": "ipython3",
   "version": "3.8.16"
  }
 },
 "nbformat": 4,
 "nbformat_minor": 5
}
