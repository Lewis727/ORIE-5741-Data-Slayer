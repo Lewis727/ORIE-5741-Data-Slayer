{
 "cells": [
  {
   "cell_type": "code",
   "execution_count": 1,
   "id": "61050cce",
   "metadata": {},
   "outputs": [],
   "source": [
    "import pandas as pd\n",
    "from statistics import mode"
   ]
  },
  {
   "cell_type": "code",
   "execution_count": 2,
   "id": "56c5dcf8",
   "metadata": {},
   "outputs": [],
   "source": [
    "file = ['iforest_label.csv', 'random_forest.csv', 'one class svm.csv', 'autoencoder.csv', 'kmeans-3.csv', 'dbscan.csv']\n",
    "res = []\n",
    "for f in file:\n",
    "    data = pd.read_csv(f, index_col=0).values\n",
    "    res.append(data.squeeze())"
   ]
  },
  {
   "cell_type": "code",
   "execution_count": 3,
   "id": "e2bf6736",
   "metadata": {},
   "outputs": [],
   "source": [
    "res = pd.DataFrame(res).T\n",
    "res.columns = [x[:-4] for x in file]"
   ]
  },
  {
   "cell_type": "code",
   "execution_count": 4,
   "id": "0c0c8979",
   "metadata": {},
   "outputs": [],
   "source": [
    "def row_mode(row):\n",
    "    return mode(row)"
   ]
  },
  {
   "cell_type": "code",
   "execution_count": 5,
   "id": "0e877f94",
   "metadata": {},
   "outputs": [],
   "source": [
    "res['mode'] = res.apply(row_mode, axis=1)"
   ]
  },
  {
   "cell_type": "code",
   "execution_count": 6,
   "id": "0bd338b2",
   "metadata": {},
   "outputs": [],
   "source": [
    "res.to_csv('labels.csv')"
   ]
  },
  {
   "cell_type": "code",
   "execution_count": 7,
   "id": "1a11e5f6",
   "metadata": {},
   "outputs": [
    {
     "data": {
      "text/html": [
       "<div>\n",
       "<style scoped>\n",
       "    .dataframe tbody tr th:only-of-type {\n",
       "        vertical-align: middle;\n",
       "    }\n",
       "\n",
       "    .dataframe tbody tr th {\n",
       "        vertical-align: top;\n",
       "    }\n",
       "\n",
       "    .dataframe thead th {\n",
       "        text-align: right;\n",
       "    }\n",
       "</style>\n",
       "<table border=\"1\" class=\"dataframe\">\n",
       "  <thead>\n",
       "    <tr style=\"text-align: right;\">\n",
       "      <th></th>\n",
       "      <th>iforest_label</th>\n",
       "      <th>random_forest</th>\n",
       "      <th>one class svm</th>\n",
       "      <th>autoencoder</th>\n",
       "      <th>kmeans-3</th>\n",
       "      <th>dbscan</th>\n",
       "      <th>mode</th>\n",
       "    </tr>\n",
       "  </thead>\n",
       "  <tbody>\n",
       "    <tr>\n",
       "      <th>0</th>\n",
       "      <td>1</td>\n",
       "      <td>1</td>\n",
       "      <td>1</td>\n",
       "      <td>1</td>\n",
       "      <td>1</td>\n",
       "      <td>1</td>\n",
       "      <td>1</td>\n",
       "    </tr>\n",
       "    <tr>\n",
       "      <th>1</th>\n",
       "      <td>1</td>\n",
       "      <td>1</td>\n",
       "      <td>1</td>\n",
       "      <td>1</td>\n",
       "      <td>1</td>\n",
       "      <td>1</td>\n",
       "      <td>1</td>\n",
       "    </tr>\n",
       "    <tr>\n",
       "      <th>2</th>\n",
       "      <td>1</td>\n",
       "      <td>1</td>\n",
       "      <td>1</td>\n",
       "      <td>1</td>\n",
       "      <td>1</td>\n",
       "      <td>1</td>\n",
       "      <td>1</td>\n",
       "    </tr>\n",
       "    <tr>\n",
       "      <th>3</th>\n",
       "      <td>1</td>\n",
       "      <td>1</td>\n",
       "      <td>1</td>\n",
       "      <td>1</td>\n",
       "      <td>1</td>\n",
       "      <td>1</td>\n",
       "      <td>1</td>\n",
       "    </tr>\n",
       "    <tr>\n",
       "      <th>4</th>\n",
       "      <td>1</td>\n",
       "      <td>1</td>\n",
       "      <td>1</td>\n",
       "      <td>1</td>\n",
       "      <td>1</td>\n",
       "      <td>1</td>\n",
       "      <td>1</td>\n",
       "    </tr>\n",
       "    <tr>\n",
       "      <th>...</th>\n",
       "      <td>...</td>\n",
       "      <td>...</td>\n",
       "      <td>...</td>\n",
       "      <td>...</td>\n",
       "      <td>...</td>\n",
       "      <td>...</td>\n",
       "      <td>...</td>\n",
       "    </tr>\n",
       "    <tr>\n",
       "      <th>66714</th>\n",
       "      <td>1</td>\n",
       "      <td>1</td>\n",
       "      <td>1</td>\n",
       "      <td>1</td>\n",
       "      <td>1</td>\n",
       "      <td>1</td>\n",
       "      <td>1</td>\n",
       "    </tr>\n",
       "    <tr>\n",
       "      <th>66715</th>\n",
       "      <td>1</td>\n",
       "      <td>1</td>\n",
       "      <td>1</td>\n",
       "      <td>1</td>\n",
       "      <td>1</td>\n",
       "      <td>1</td>\n",
       "      <td>1</td>\n",
       "    </tr>\n",
       "    <tr>\n",
       "      <th>66716</th>\n",
       "      <td>1</td>\n",
       "      <td>1</td>\n",
       "      <td>1</td>\n",
       "      <td>1</td>\n",
       "      <td>1</td>\n",
       "      <td>1</td>\n",
       "      <td>1</td>\n",
       "    </tr>\n",
       "    <tr>\n",
       "      <th>66717</th>\n",
       "      <td>1</td>\n",
       "      <td>1</td>\n",
       "      <td>1</td>\n",
       "      <td>1</td>\n",
       "      <td>1</td>\n",
       "      <td>1</td>\n",
       "      <td>1</td>\n",
       "    </tr>\n",
       "    <tr>\n",
       "      <th>66718</th>\n",
       "      <td>1</td>\n",
       "      <td>1</td>\n",
       "      <td>1</td>\n",
       "      <td>1</td>\n",
       "      <td>1</td>\n",
       "      <td>1</td>\n",
       "      <td>1</td>\n",
       "    </tr>\n",
       "  </tbody>\n",
       "</table>\n",
       "<p>66719 rows × 7 columns</p>\n",
       "</div>"
      ],
      "text/plain": [
       "       iforest_label  random_forest  one class svm  autoencoder  kmeans-3  \\\n",
       "0                  1              1              1            1         1   \n",
       "1                  1              1              1            1         1   \n",
       "2                  1              1              1            1         1   \n",
       "3                  1              1              1            1         1   \n",
       "4                  1              1              1            1         1   \n",
       "...              ...            ...            ...          ...       ...   \n",
       "66714              1              1              1            1         1   \n",
       "66715              1              1              1            1         1   \n",
       "66716              1              1              1            1         1   \n",
       "66717              1              1              1            1         1   \n",
       "66718              1              1              1            1         1   \n",
       "\n",
       "       dbscan  mode  \n",
       "0           1     1  \n",
       "1           1     1  \n",
       "2           1     1  \n",
       "3           1     1  \n",
       "4           1     1  \n",
       "...       ...   ...  \n",
       "66714       1     1  \n",
       "66715       1     1  \n",
       "66716       1     1  \n",
       "66717       1     1  \n",
       "66718       1     1  \n",
       "\n",
       "[66719 rows x 7 columns]"
      ]
     },
     "execution_count": 7,
     "metadata": {},
     "output_type": "execute_result"
    }
   ],
   "source": [
    "res"
   ]
  },
  {
   "cell_type": "code",
   "execution_count": 8,
   "id": "6b2e6042",
   "metadata": {},
   "outputs": [
    {
     "data": {
      "text/plain": [
       "(array([   21,   376,  1081,  1528,  3016,  3903,  6392,  6740,  7172,\n",
       "        10947, 12364, 12520, 13443, 14475, 14867, 15812, 21083, 21927,\n",
       "        21975, 22659, 24482, 25923, 28747, 28924, 29772, 31387, 37983,\n",
       "        45915, 47007, 49720, 52131, 52769, 52889, 52997, 59594, 59804,\n",
       "        60675, 61645, 61769, 61865, 62297, 62321, 62825]),)"
      ]
     },
     "execution_count": 8,
     "metadata": {},
     "output_type": "execute_result"
    }
   ],
   "source": [
    "import numpy as np\n",
    "np.where(res['mode']==-1)"
   ]
  },
  {
   "cell_type": "code",
   "execution_count": 9,
   "id": "27aa93d1",
   "metadata": {},
   "outputs": [
    {
     "data": {
      "text/plain": [
       "iforest_label    134\n",
       "random_forest    120\n",
       "one class svm    134\n",
       "autoencoder      131\n",
       "kmeans-3         134\n",
       "dbscan           142\n",
       "mode              43\n",
       "dtype: int64"
      ]
     },
     "execution_count": 9,
     "metadata": {},
     "output_type": "execute_result"
    }
   ],
   "source": [
    "res.eq(-1).sum()"
   ]
  },
  {
   "cell_type": "code",
   "execution_count": null,
   "id": "1ca67a7d",
   "metadata": {},
   "outputs": [],
   "source": []
  },
  {
   "cell_type": "code",
   "execution_count": null,
   "id": "4d1b101f",
   "metadata": {},
   "outputs": [],
   "source": []
  }
 ],
 "metadata": {
  "kernelspec": {
   "display_name": "Python 3 (ipykernel)",
   "language": "python",
   "name": "python3"
  },
  "language_info": {
   "codemirror_mode": {
    "name": "ipython",
    "version": 3
   },
   "file_extension": ".py",
   "mimetype": "text/x-python",
   "name": "python",
   "nbconvert_exporter": "python",
   "pygments_lexer": "ipython3",
   "version": "3.9.16"
  }
 },
 "nbformat": 4,
 "nbformat_minor": 5
}
