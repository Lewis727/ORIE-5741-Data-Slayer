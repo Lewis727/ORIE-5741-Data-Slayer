{
 "cells": [
  {
   "cell_type": "code",
   "execution_count": 1,
   "id": "61050cce",
   "metadata": {},
   "outputs": [],
   "source": [
    "import pandas as pd\n",
    "from statistics import mode"
   ]
  },
  {
   "cell_type": "code",
   "execution_count": 2,
   "id": "56c5dcf8",
   "metadata": {},
   "outputs": [],
   "source": [
    "file = ['iforest_label.csv', 'random_forest.csv', 'one class svm.csv', 'autoencoder.csv']\n",
    "res = []\n",
    "for f in file:\n",
    "    data = pd.read_csv(f, index_col=0).values\n",
    "    res.append(data.squeeze())"
   ]
  },
  {
   "cell_type": "code",
   "execution_count": 3,
   "id": "e2bf6736",
   "metadata": {},
   "outputs": [],
   "source": [
    "res = pd.DataFrame(res).T\n",
    "res.columns = [x[:-4] for x in file]"
   ]
  },
  {
   "cell_type": "code",
   "execution_count": 4,
   "id": "0c0c8979",
   "metadata": {},
   "outputs": [],
   "source": [
    "def row_mode(row):\n",
    "    return mode(row)"
   ]
  },
  {
   "cell_type": "code",
   "execution_count": 5,
   "id": "0e877f94",
   "metadata": {},
   "outputs": [],
   "source": [
    "res['mode'] = res.apply(row_mode, axis=1)"
   ]
  },
  {
   "cell_type": "code",
   "execution_count": 6,
   "id": "0bd338b2",
   "metadata": {},
   "outputs": [],
   "source": [
    "res.to_csv('labels.csv')"
   ]
  }
 ],
 "metadata": {
  "kernelspec": {
   "display_name": "Python 3 (ipykernel)",
   "language": "python",
   "name": "python3"
  },
  "language_info": {
   "codemirror_mode": {
    "name": "ipython",
    "version": 3
   },
   "file_extension": ".py",
   "mimetype": "text/x-python",
   "name": "python",
   "nbconvert_exporter": "python",
   "pygments_lexer": "ipython3",
   "version": "3.9.16"
  }
 },
 "nbformat": 4,
 "nbformat_minor": 5
}
