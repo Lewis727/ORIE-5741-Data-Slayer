{
 "cells": [
  {
   "cell_type": "code",
   "execution_count": 1,
   "id": "f3ff38a6",
   "metadata": {},
   "outputs": [],
   "source": [
    "import pandas as pd\n",
    "from sklearn.linear_model import LinearRegression"
   ]
  },
  {
   "cell_type": "code",
   "execution_count": 2,
   "id": "0901a058",
   "metadata": {},
   "outputs": [],
   "source": [
    "data = pd.read_excel('Region_NW.xlsx', index_col=1)\n",
    "data.index = pd.to_datetime(data.index)\n",
    "data = data[['D']]\n",
    "data = data.dropna()\n",
    "temp = data['D'].pct_change()\n",
    "temp.columns = ['delta_D']\n",
    "temp.rename(\"delta_D\", inplace=True)\n",
    "data = data.join(temp, how='right')\n",
    "temp = temp.pct_change()\n",
    "temp.columns = ['delta_2_D']\n",
    "temp.rename(\"delta_2_D\", inplace=True)\n",
    "data = data.join(temp, how='right')"
   ]
  },
  {
   "cell_type": "code",
   "execution_count": 3,
   "id": "d037ca47",
   "metadata": {},
   "outputs": [
    {
     "ename": "NameError",
     "evalue": "name 'df' is not defined",
     "output_type": "error",
     "traceback": [
      "\u001b[0;31m---------------------------------------------------------------------------\u001b[0m",
      "\u001b[0;31mNameError\u001b[0m                                 Traceback (most recent call last)",
      "Cell \u001b[0;32mIn[3], line 26\u001b[0m\n\u001b[1;32m     23\u001b[0m predicted \u001b[38;5;241m=\u001b[39m model\u001b[38;5;241m.\u001b[39mpredict(X_missing)\n\u001b[1;32m     25\u001b[0m \u001b[38;5;66;03m# Replace the missing values in the original dataset\u001b[39;00m\n\u001b[0;32m---> 26\u001b[0m data\u001b[38;5;241m.\u001b[39mloc[\u001b[43mdf\u001b[49m[\u001b[38;5;124m'\u001b[39m\u001b[38;5;124mD_\u001b[39m\u001b[38;5;124m'\u001b[39m\u001b[38;5;241m+\u001b[39mr]\u001b[38;5;241m.\u001b[39misna(), \u001b[38;5;124m'\u001b[39m\u001b[38;5;124mD_\u001b[39m\u001b[38;5;124m'\u001b[39m\u001b[38;5;241m+\u001b[39mr] \u001b[38;5;241m=\u001b[39m predicted\n",
      "\u001b[0;31mNameError\u001b[0m: name 'df' is not defined"
     ]
    }
   ],
   "source": [
    "regions = ['BPAT', 'NEVP', 'PACE', 'PACW', 'PSCO', 'WACM', 'PSEI']\n",
    "for r in regions:\n",
    "    region = pd.read_excel(r + '.xlsx', index_col=1)\n",
    "    region.index = pd.to_datetime(region.index)\n",
    "    idx = (region['Imputed D'].notna()) & (region['D'].isna())\n",
    "    region.loc[idx, 'D'] = region.loc[idx, 'Imputed D']\n",
    "    idx = (region['Imputed D'].isna()) & (region['D'].isna()) & (region['DF'].notna())\n",
    "    region.loc[idx, 'D'] = region.loc[idx, 'DF']\n",
    "    temp = region[['D']]\n",
    "    data = data.join(temp, rsuffix='_'+r)\n",
    "    # Prepare the data\n",
    "    complete_data = data[data['D_'+r].notna()]\n",
    "    missing_data = data[data['D_'+r].isna()]\n",
    "\n",
    "    # Perform linear regression\n",
    "    X_complete = complete_data[['D']]\n",
    "    y_complete = complete_data['D_'+r]\n",
    "    model = LinearRegression()\n",
    "    model.fit(X_complete, y_complete)\n",
    "\n",
    "    # Impute the missing values\n",
    "    X_missing = missing_data[['D']]\n",
    "    predicted = model.predict(X_missing)\n",
    "\n",
    "    # Replace the missing values in the original dataset\n",
    "    data.loc[df['D_'+r].isna(), 'D_'+r] = predicted"
   ]
  },
  {
   "cell_type": "code",
   "execution_count": null,
   "id": "0d1e0ca4",
   "metadata": {},
   "outputs": [],
   "source": [
    "data = data.dropna()\n",
    "data.to_csv('data.csv')"
   ]
  },
  {
   "cell_type": "code",
   "execution_count": null,
   "id": "db83a551",
   "metadata": {},
   "outputs": [],
   "source": []
  },
  {
   "cell_type": "code",
   "execution_count": null,
   "id": "b86c7bda",
   "metadata": {},
   "outputs": [],
   "source": []
  },
  {
   "cell_type": "code",
   "execution_count": null,
   "id": "2baf82bb",
   "metadata": {},
   "outputs": [],
   "source": []
  },
  {
   "cell_type": "code",
   "execution_count": null,
   "id": "990f9277",
   "metadata": {},
   "outputs": [],
   "source": []
  },
  {
   "cell_type": "code",
   "execution_count": null,
   "id": "9e17611f",
   "metadata": {},
   "outputs": [],
   "source": []
  }
 ],
 "metadata": {
  "kernelspec": {
   "display_name": "Python 3 (ipykernel)",
   "language": "python",
   "name": "python3"
  },
  "language_info": {
   "codemirror_mode": {
    "name": "ipython",
    "version": 3
   },
   "file_extension": ".py",
   "mimetype": "text/x-python",
   "name": "python",
   "nbconvert_exporter": "python",
   "pygments_lexer": "ipython3",
   "version": "3.9.13"
  }
 },
 "nbformat": 4,
 "nbformat_minor": 5
}
